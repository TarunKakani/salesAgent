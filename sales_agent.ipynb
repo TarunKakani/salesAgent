{
 "cells": [
  {
   "cell_type": "code",
   "execution_count": 2,
   "id": "fc3ad85c",
   "metadata": {},
   "outputs": [],
   "source": [
    "import pandas as pd"
   ]
  },
  {
   "cell_type": "code",
   "execution_count": 1,
   "id": "73e753ab",
   "metadata": {},
   "outputs": [
    {
     "name": "stdout",
     "output_type": "stream",
     "text": [
      "Hello World\n"
     ]
    }
   ],
   "source": [
    "print(\"Hello World\")"
   ]
  },
  {
   "cell_type": "code",
   "execution_count": null,
   "id": "f87748a3",
   "metadata": {},
   "outputs": [
    {
     "data": {
      "text/html": [
       "<div>\n",
       "<style scoped>\n",
       "    .dataframe tbody tr th:only-of-type {\n",
       "        vertical-align: middle;\n",
       "    }\n",
       "\n",
       "    .dataframe tbody tr th {\n",
       "        vertical-align: top;\n",
       "    }\n",
       "\n",
       "    .dataframe thead th {\n",
       "        text-align: right;\n",
       "    }\n",
       "</style>\n",
       "<table border=\"1\" class=\"dataframe\">\n",
       "  <thead>\n",
       "    <tr style=\"text-align: right;\">\n",
       "      <th></th>\n",
       "      <th>Transaction_ID</th>\n",
       "      <th>Date</th>\n",
       "      <th>Product</th>\n",
       "      <th>Quantity</th>\n",
       "      <th>Price</th>\n",
       "      <th>Total_Sales</th>\n",
       "    </tr>\n",
       "  </thead>\n",
       "  <tbody>\n",
       "    <tr>\n",
       "      <th>0</th>\n",
       "      <td>1</td>\n",
       "      <td>2025-04-13 00:00:00</td>\n",
       "      <td>Product_1</td>\n",
       "      <td>8</td>\n",
       "      <td>107.17</td>\n",
       "      <td>857.36</td>\n",
       "    </tr>\n",
       "    <tr>\n",
       "      <th>1</th>\n",
       "      <td>2</td>\n",
       "      <td>2025-12-15 00:00:00</td>\n",
       "      <td>Product_46</td>\n",
       "      <td>16</td>\n",
       "      <td>83.06</td>\n",
       "      <td>1328.96</td>\n",
       "    </tr>\n",
       "    <tr>\n",
       "      <th>2</th>\n",
       "      <td>3</td>\n",
       "      <td>2025-09-28 00:00:00</td>\n",
       "      <td>Product_16</td>\n",
       "      <td>17</td>\n",
       "      <td>98.10</td>\n",
       "      <td>1667.70</td>\n",
       "    </tr>\n",
       "    <tr>\n",
       "      <th>3</th>\n",
       "      <td>4</td>\n",
       "      <td>2025-04-17 00:00:00</td>\n",
       "      <td>Product_46</td>\n",
       "      <td>19</td>\n",
       "      <td>78.91</td>\n",
       "      <td>1499.29</td>\n",
       "    </tr>\n",
       "    <tr>\n",
       "      <th>4</th>\n",
       "      <td>5</td>\n",
       "      <td>2025-03-13 00:00:00</td>\n",
       "      <td>Product_3</td>\n",
       "      <td>15</td>\n",
       "      <td>88.43</td>\n",
       "      <td>1326.45</td>\n",
       "    </tr>\n",
       "  </tbody>\n",
       "</table>\n",
       "</div>"
      ],
      "text/plain": [
       "   Transaction_ID                 Date     Product  Quantity   Price  \\\n",
       "0               1  2025-04-13 00:00:00   Product_1         8  107.17   \n",
       "1               2  2025-12-15 00:00:00  Product_46        16   83.06   \n",
       "2               3  2025-09-28 00:00:00  Product_16        17   98.10   \n",
       "3               4  2025-04-17 00:00:00  Product_46        19   78.91   \n",
       "4               5  2025-03-13 00:00:00   Product_3        15   88.43   \n",
       "\n",
       "   Total_Sales  \n",
       "0       857.36  \n",
       "1      1328.96  \n",
       "2      1667.70  \n",
       "3      1499.29  \n",
       "4      1326.45  "
      ]
     },
     "execution_count": 5,
     "metadata": {},
     "output_type": "execute_result"
    }
   ],
   "source": [
    "df = pd.read_csv(\"sales_dataset.csv\")\n",
    "df.describe()\n",
    "df.head()"
   ]
  }
 ],
 "metadata": {
  "kernelspec": {
   "display_name": "base",
   "language": "python",
   "name": "python3"
  },
  "language_info": {
   "codemirror_mode": {
    "name": "ipython",
    "version": 3
   },
   "file_extension": ".py",
   "mimetype": "text/x-python",
   "name": "python",
   "nbconvert_exporter": "python",
   "pygments_lexer": "ipython3",
   "version": "3.13.2"
  }
 },
 "nbformat": 4,
 "nbformat_minor": 5
}
